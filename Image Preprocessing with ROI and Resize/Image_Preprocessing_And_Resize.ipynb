{
  "nbformat": 4,
  "nbformat_minor": 0,
  "metadata": {
    "colab": {
      "provenance": [],
      "gpuType": "T4"
    },
    "kernelspec": {
      "name": "python3",
      "display_name": "Python 3"
    },
    "language_info": {
      "name": "python"
    },
    "accelerator": "GPU"
  },
  "cells": [
    {
      "cell_type": "code",
      "source": [
        "from PIL import Image\n",
        "import cv2\n",
        "import os\n",
        "import random\n",
        "from tqdm import tqdm\n",
        "import dlib\n",
        "import matplotlib.pyplot as plt\n",
        "import numpy as np"
      ],
      "metadata": {
        "id": "09rVi56CXAm3"
      },
      "execution_count": 11,
      "outputs": []
    },
    {
      "cell_type": "code",
      "source": [
        "from google.colab import drive\n",
        "drive.mount('/content/drive')"
      ],
      "metadata": {
        "colab": {
          "base_uri": "https://localhost:8080/"
        },
        "id": "1jjb3pQSXqYP",
        "outputId": "82b4228a-c85c-4482-eea0-c5d6efdd0733"
      },
      "execution_count": 3,
      "outputs": [
        {
          "output_type": "stream",
          "name": "stdout",
          "text": [
            "Mounted at /content/drive\n"
          ]
        }
      ]
    },
    {
      "cell_type": "code",
      "source": [
        "dir = r\"/content/drive/MyDrive/Dataset/train\""
      ],
      "metadata": {
        "id": "BkSGFQDhXsJA"
      },
      "execution_count": 4,
      "outputs": []
    },
    {
      "cell_type": "code",
      "source": [
        "# Output Path for data\n",
        "output_path = \"/content/drive/MyDrive/skin_detection\""
      ],
      "metadata": {
        "id": "2ezttqpjZZTx"
      },
      "execution_count": 5,
      "outputs": []
    },
    {
      "cell_type": "code",
      "source": [
        "os.makedirs(output_path, exist_ok=True)"
      ],
      "metadata": {
        "id": "KpLdrOrTZfE5"
      },
      "execution_count": 6,
      "outputs": []
    },
    {
      "cell_type": "code",
      "source": [
        "def detect_face(image):\n",
        "    # Load the pre-trained HOG face detector from dlib\n",
        "    face_detector = dlib.get_frontal_face_detector()\n",
        "\n",
        "    # Detect faces in the image\n",
        "    faces = face_detector(image, 1)\n",
        "\n",
        "    if len(faces) > 0:\n",
        "        # Assuming only one face, you can modify this if there are multiple faces\n",
        "        x, y, w, h = faces[0].left(), faces[0].top(), faces[0].width(), faces[0].height()\n",
        "        bounding_box = (x, y, w, h)\n",
        "        return bounding_box\n",
        "    else:\n",
        "        # If no face is detected, use the entire image as the bounding box\n",
        "        height, width, _ = image.shape\n",
        "        bounding_box = (0, 0, width, height)\n",
        "        return bounding_box"
      ],
      "metadata": {
        "id": "qiFupEiBXJik"
      },
      "execution_count": 7,
      "outputs": []
    },
    {
      "cell_type": "code",
      "source": [
        "def extract_skin_roi(image, bounding_box):\n",
        "    x, y, w, h = bounding_box\n",
        "\n",
        "    # Extract the face region\n",
        "    face_roi = image[y:y + h, x:x + w]\n",
        "\n",
        "    # Check if the face_roi is empty or too small\n",
        "    if face_roi is None or face_roi.size == 0 or face_roi.shape[0] < 10 or face_roi.shape[1] < 10:\n",
        "        # print(\"Warning: Empty or small face_roi. Using the entire image as ROI.\")\n",
        "        return image\n",
        "\n",
        "    # Convert the face region to HSV color space\n",
        "    hsv_face = cv2.cvtColor(face_roi, cv2.COLOR_BGR2HSV)\n",
        "\n",
        "    # Define a range for skin color in HSV\n",
        "    lower_skin = np.array([0, 20, 70], dtype=np.uint8)\n",
        "    upper_skin = np.array([20, 255, 255], dtype=np.uint8)\n",
        "\n",
        "    # Create a binary mask for the skin color range\n",
        "    skin_mask = cv2.inRange(hsv_face, lower_skin, upper_skin)\n",
        "\n",
        "    # Apply the mask to extract the skin region\n",
        "    skin_roi = cv2.bitwise_and(face_roi, face_roi, mask=skin_mask)\n",
        "\n",
        "    return skin_roi\n"
      ],
      "metadata": {
        "id": "OqyorZ_qXTAf"
      },
      "execution_count": 21,
      "outputs": []
    },
    {
      "cell_type": "code",
      "source": [
        "def process_image(image_path, class_name, output_path):\n",
        "    # Load the image\n",
        "    img = cv2.imread(image_path)\n",
        "\n",
        "    # Detect face\n",
        "    bounding_box = detect_face(img)\n",
        "\n",
        "    # Extract skin ROI\n",
        "    skin_roi = extract_skin_roi(img, bounding_box)\n",
        "\n",
        "    # Resize to a standard size (248x248)\n",
        "    skin_roi_resized = cv2.resize(skin_roi, (248, 248))\n",
        "\n",
        "    # Save the processed image in the respective class folder\n",
        "    # save_path = os.path.join(output_path, class_name, os.path.basename(image_path))\n",
        "    print(f\"Saving at: {output_path}\")\n",
        "\n",
        "    # Save the image using cv2.imwrite\n",
        "    cv2.imwrite(output_path, cv2.cvtColor(skin_roi_resized, cv2.COLOR_BGR2RGB))\n"
      ],
      "metadata": {
        "id": "tk90zoOhXx1F"
      },
      "execution_count": 29,
      "outputs": []
    },
    {
      "cell_type": "code",
      "execution_count": 31,
      "metadata": {
        "colab": {
          "base_uri": "https://localhost:8080/",
          "height": 1000
        },
        "id": "YTm2xm_YSg5N",
        "outputId": "ea62dbb0-6d49-44cd-b664-ec7fe1dbc06e"
      },
      "outputs": [
        {
          "output_type": "stream",
          "name": "stderr",
          "text": [
            "Processing Combination images: 1it [00:00,  1.24it/s]"
          ]
        },
        {
          "output_type": "stream",
          "name": "stdout",
          "text": [
            "Saving at: /content/drive/MyDrive/skin_detection/validation/Combination/combination_-_b95e08ce7eb385ee6d58_jpg.rf.458badecd96f012a85e5e4d4974c1348.jpg\n"
          ]
        },
        {
          "output_type": "stream",
          "name": "stderr",
          "text": [
            "\rProcessing Combination images: 2it [00:01,  1.21it/s]"
          ]
        },
        {
          "output_type": "stream",
          "name": "stdout",
          "text": [
            "Saving at: /content/drive/MyDrive/skin_detection/validation/Combination/combination_-_d4d3369474d0907f660d_jpg.rf.fea3267afe992118a97ab96eb68e3105.jpg\n"
          ]
        },
        {
          "output_type": "stream",
          "name": "stderr",
          "text": [
            "\rProcessing Combination images: 3it [00:02,  1.26it/s]"
          ]
        },
        {
          "output_type": "stream",
          "name": "stdout",
          "text": [
            "Saving at: /content/drive/MyDrive/skin_detection/validation/Combination/combination_-_4ba65b9f7f9f59972fe0_jpg.rf.608176e2c7eb02644a1878cf5fdc2ca4.jpg\n"
          ]
        },
        {
          "output_type": "stream",
          "name": "stderr",
          "text": [
            "\rProcessing Combination images: 4it [00:03,  1.39it/s]"
          ]
        },
        {
          "output_type": "stream",
          "name": "stdout",
          "text": [
            "Saving at: /content/drive/MyDrive/skin_detection/validation/Combination/combination_-_cf58b60c87d3fcd21684_jpg.rf.29ab1250a4078cc6b957eb5bd3550a6c.jpg\n"
          ]
        },
        {
          "output_type": "stream",
          "name": "stderr",
          "text": [
            "\rProcessing Combination images: 5it [00:03,  1.47it/s]"
          ]
        },
        {
          "output_type": "stream",
          "name": "stdout",
          "text": [
            "Saving at: /content/drive/MyDrive/skin_detection/validation/Combination/combination_-_7dd0c3d78039ce5d796f_jpg.rf.61ef81bea7bbc228e743e6703a9f9fbb.jpg\n"
          ]
        },
        {
          "output_type": "stream",
          "name": "stderr",
          "text": [
            "\rProcessing Combination images: 6it [00:04,  1.50it/s]"
          ]
        },
        {
          "output_type": "stream",
          "name": "stdout",
          "text": [
            "Saving at: /content/drive/MyDrive/skin_detection/validation/Combination/combination_-_8633c3d40e797da20098_jpg.rf.e18c24b7acf2763b74a369e613126dc3.jpg\n"
          ]
        },
        {
          "output_type": "stream",
          "name": "stderr",
          "text": [
            "\rProcessing Combination images: 7it [00:04,  1.54it/s]"
          ]
        },
        {
          "output_type": "stream",
          "name": "stdout",
          "text": [
            "Saving at: /content/drive/MyDrive/skin_detection/validation/Combination/combination_-_542c0dc441c8522a728c_jpg.rf.d1ebef540c1e66f5e5877a3a8609ed01.jpg\n"
          ]
        },
        {
          "output_type": "stream",
          "name": "stderr",
          "text": [
            "\rProcessing Combination images: 8it [00:05,  1.58it/s]"
          ]
        },
        {
          "output_type": "stream",
          "name": "stdout",
          "text": [
            "Saving at: /content/drive/MyDrive/skin_detection/validation/Combination/combination_-_0b1a47e9eaa155a8b8db_jpg.rf.2035cdff2016d48b2399c4ef18629a43.jpg\n"
          ]
        },
        {
          "output_type": "stream",
          "name": "stderr",
          "text": [
            "\rProcessing Combination images: 9it [00:06,  1.60it/s]"
          ]
        },
        {
          "output_type": "stream",
          "name": "stdout",
          "text": [
            "Saving at: /content/drive/MyDrive/skin_detection/validation/Combination/combination_-_e2d7454878c230c66a03_jpg.rf.23a161d97c138dee7ce7f7da29000054.jpg\n"
          ]
        },
        {
          "output_type": "stream",
          "name": "stderr",
          "text": [
            "\rProcessing Combination images: 10it [00:06,  1.62it/s]"
          ]
        },
        {
          "output_type": "stream",
          "name": "stdout",
          "text": [
            "Saving at: /content/drive/MyDrive/skin_detection/validation/Combination/combination_-_f0ff989a4be6389bd61b_jpg.rf.8504b6330e21b1721af469d856f5a832.jpg\n"
          ]
        },
        {
          "output_type": "stream",
          "name": "stderr",
          "text": [
            "\rProcessing Combination images: 11it [00:07,  1.64it/s]"
          ]
        },
        {
          "output_type": "stream",
          "name": "stdout",
          "text": [
            "Saving at: /content/drive/MyDrive/skin_detection/validation/Combination/combination_-_6f7dcab28a16a7ffcf41_jpg.rf.ec6f7dfaeea8f0de25cc554ae6660de6.jpg\n"
          ]
        },
        {
          "output_type": "stream",
          "name": "stderr",
          "text": [
            "\rProcessing Combination images: 12it [00:07,  1.65it/s]"
          ]
        },
        {
          "output_type": "stream",
          "name": "stdout",
          "text": [
            "Saving at: /content/drive/MyDrive/skin_detection/validation/Combination/combination_-_b3d9ce6071b561cd046d_jpg.rf.48bfbe3d05795c6d738d03504672b827.jpg\n"
          ]
        },
        {
          "output_type": "stream",
          "name": "stderr",
          "text": [
            "\rProcessing Combination images: 13it [00:08,  1.54it/s]"
          ]
        },
        {
          "output_type": "stream",
          "name": "stdout",
          "text": [
            "Saving at: /content/drive/MyDrive/skin_detection/validation/Combination/combination_-_474678d38cafb882d21b_jpg.rf.ace9721c5b410871296d87f3c910d37d.jpg\n"
          ]
        },
        {
          "output_type": "stream",
          "name": "stderr",
          "text": [
            "\rProcessing Combination images: 14it [00:09,  1.49it/s]"
          ]
        },
        {
          "output_type": "stream",
          "name": "stdout",
          "text": [
            "Saving at: /content/drive/MyDrive/skin_detection/validation/Combination/combination_-_8623f0b2fa4f00365535_jpg.rf.fd74d420ff8dce4bcc5d8cc39d5c614d.jpg\n"
          ]
        },
        {
          "output_type": "stream",
          "name": "stderr",
          "text": [
            "\rProcessing Combination images: 15it [00:10,  1.42it/s]"
          ]
        },
        {
          "output_type": "stream",
          "name": "stdout",
          "text": [
            "Saving at: /content/drive/MyDrive/skin_detection/validation/Combination/combination_-_c58c87902057693f84df_jpg.rf.9e9485404651f59d8f4f5518f8e29c0d.jpg\n"
          ]
        },
        {
          "output_type": "stream",
          "name": "stderr",
          "text": [
            "\rProcessing Combination images: 16it [00:10,  1.48it/s]"
          ]
        },
        {
          "output_type": "stream",
          "name": "stdout",
          "text": [
            "Saving at: /content/drive/MyDrive/skin_detection/validation/Combination/combination_-_03eaed49789836b35054_jpg.rf.25ba555d92946e484fee173c559a457e.jpg\n"
          ]
        },
        {
          "output_type": "stream",
          "name": "stderr",
          "text": [
            "\rProcessing Combination images: 17it [00:11,  1.53it/s]"
          ]
        },
        {
          "output_type": "stream",
          "name": "stdout",
          "text": [
            "Saving at: /content/drive/MyDrive/skin_detection/validation/Combination/combination_-_f957ae954a160ea5081d_jpg.rf.52a6aad3faa04e0d0702998e2145c303.jpg\n"
          ]
        },
        {
          "output_type": "stream",
          "name": "stderr",
          "text": [
            "\rProcessing Combination images: 18it [00:11,  1.55it/s]"
          ]
        },
        {
          "output_type": "stream",
          "name": "stdout",
          "text": [
            "Saving at: /content/drive/MyDrive/skin_detection/validation/Combination/combination_-_d8412773ef2668ae095d_jpg.rf.2df749d201b266099004c290318f2191.jpg\n"
          ]
        },
        {
          "output_type": "stream",
          "name": "stderr",
          "text": [
            "\rProcessing Combination images: 19it [00:12,  1.46it/s]"
          ]
        },
        {
          "output_type": "stream",
          "name": "stdout",
          "text": [
            "Saving at: /content/drive/MyDrive/skin_detection/validation/Combination/combination_-_d2279e33587afd221191_jpg.rf.e8a82af601038052ba35d17e162c12e2.jpg\n"
          ]
        },
        {
          "output_type": "stream",
          "name": "stderr",
          "text": [
            "\rProcessing Combination images: 20it [00:13,  1.38it/s]"
          ]
        },
        {
          "output_type": "stream",
          "name": "stdout",
          "text": [
            "Saving at: /content/drive/MyDrive/skin_detection/validation/Combination/combination_-_eed9fed140de229175e7_jpg.rf.17628895b139fa2a48b041340d4a794b.jpg\n"
          ]
        },
        {
          "output_type": "stream",
          "name": "stderr",
          "text": [
            "\rProcessing Combination images: 21it [00:14,  1.32it/s]"
          ]
        },
        {
          "output_type": "stream",
          "name": "stdout",
          "text": [
            "Saving at: /content/drive/MyDrive/skin_detection/validation/Combination/combination_-_596fb525f4f3918710cd_jpg.rf.89fbb613c91f68485fb842ea8d1b1c0a.jpg\n"
          ]
        },
        {
          "output_type": "stream",
          "name": "stderr",
          "text": [
            "\rProcessing Combination images: 22it [00:15,  1.26it/s]"
          ]
        },
        {
          "output_type": "stream",
          "name": "stdout",
          "text": [
            "Saving at: /content/drive/MyDrive/skin_detection/validation/Combination/combination_-_8aa34aa87038481a893c_jpg.rf.73010c120d646e02c8d8753a69220443.jpg\n"
          ]
        },
        {
          "output_type": "stream",
          "name": "stderr",
          "text": [
            "\rProcessing Combination images: 23it [00:15,  1.36it/s]"
          ]
        },
        {
          "output_type": "stream",
          "name": "stdout",
          "text": [
            "Saving at: /content/drive/MyDrive/skin_detection/validation/Combination/combination_-_470953de6aa655f4fe79_jpg.rf.0550a1dfdb793b87599db4a700350e50.jpg\n"
          ]
        },
        {
          "output_type": "stream",
          "name": "stderr",
          "text": [
            "\rProcessing Combination images: 24it [00:16,  1.42it/s]"
          ]
        },
        {
          "output_type": "stream",
          "name": "stdout",
          "text": [
            "Saving at: /content/drive/MyDrive/skin_detection/validation/Combination/combination_-_fe482513fd2a3a8c79c0_jpg.rf.6ae44dec5b45a3c2463ab03eef0fbfac.jpg\n"
          ]
        },
        {
          "output_type": "stream",
          "name": "stderr",
          "text": [
            "\rProcessing Combination images: 25it [00:17,  1.47it/s]"
          ]
        },
        {
          "output_type": "stream",
          "name": "stdout",
          "text": [
            "Saving at: /content/drive/MyDrive/skin_detection/validation/Combination/combination_-_d8412773ef2668ae095d_jpg.rf.a8288b5b80312c43d1d5c55898fe86c4.jpg\n"
          ]
        },
        {
          "output_type": "stream",
          "name": "stderr",
          "text": [
            "\rProcessing Combination images: 26it [00:17,  1.52it/s]"
          ]
        },
        {
          "output_type": "stream",
          "name": "stdout",
          "text": [
            "Saving at: /content/drive/MyDrive/skin_detection/validation/Combination/combination_-_65ab6e135242c408e342_jpg.rf.f5c9a5f878e339c2179fbcc60c208b17.jpg\n"
          ]
        },
        {
          "output_type": "stream",
          "name": "stderr",
          "text": [
            "\rProcessing Combination images: 27it [00:18,  1.52it/s]"
          ]
        },
        {
          "output_type": "stream",
          "name": "stdout",
          "text": [
            "Saving at: /content/drive/MyDrive/skin_detection/validation/Combination/combination_-_2ae5a0056c9641228e4e_jpg.rf.aaf6b325a7b7dca12ac7f6c62b8c4a25.jpg\n"
          ]
        },
        {
          "output_type": "stream",
          "name": "stderr",
          "text": [
            "\rProcessing Combination images: 28it [00:19,  1.54it/s]"
          ]
        },
        {
          "output_type": "stream",
          "name": "stdout",
          "text": [
            "Saving at: /content/drive/MyDrive/skin_detection/validation/Combination/combination_-_934dfe250d57337ddbb3_jpg.rf.eb64671b0dec83ea0cc0b884ae716a40.jpg\n"
          ]
        },
        {
          "output_type": "stream",
          "name": "stderr",
          "text": [
            "\rProcessing Combination images: 29it [00:19,  1.58it/s]"
          ]
        },
        {
          "output_type": "stream",
          "name": "stdout",
          "text": [
            "Saving at: /content/drive/MyDrive/skin_detection/validation/Combination/combination_-_805620f294824ba3f2c8_jpg.rf.5112cc1559cc104ad14a7e2f1d34ffe8.jpg\n"
          ]
        },
        {
          "output_type": "stream",
          "name": "stderr",
          "text": [
            "\rProcessing Combination images: 30it [00:20,  1.59it/s]"
          ]
        },
        {
          "output_type": "stream",
          "name": "stdout",
          "text": [
            "Saving at: /content/drive/MyDrive/skin_detection/validation/Combination/combination_-_d4d3369474d0907f660d_jpg.rf.935060fe77d9a71d15d6dd9404c9db44.jpg\n"
          ]
        },
        {
          "output_type": "stream",
          "name": "stderr",
          "text": [
            "\rProcessing Combination images: 31it [00:20,  1.58it/s]"
          ]
        },
        {
          "output_type": "stream",
          "name": "stdout",
          "text": [
            "Saving at: /content/drive/MyDrive/skin_detection/validation/Combination/combination_-_f0ff989a4be6389bd61b_jpg.rf.9fabc88241b0bf0db1e7265b3b761083.jpg\n"
          ]
        },
        {
          "output_type": "stream",
          "name": "stderr",
          "text": [
            "\rProcessing Combination images: 32it [00:21,  1.60it/s]"
          ]
        },
        {
          "output_type": "stream",
          "name": "stdout",
          "text": [
            "Saving at: /content/drive/MyDrive/skin_detection/validation/Combination/combination_-_739d89ec1c90fd9e3933_jpg.rf.94e111b559c9eb085988fa2a85267440.jpg\n"
          ]
        },
        {
          "output_type": "stream",
          "name": "stderr",
          "text": [
            "\rProcessing Combination images: 33it [00:22,  1.61it/s]"
          ]
        },
        {
          "output_type": "stream",
          "name": "stdout",
          "text": [
            "Saving at: /content/drive/MyDrive/skin_detection/validation/Combination/combination_-_aaecf6fbe61e51dec18a_jpg.rf.bf91b88c9bac27753f6c8b4a2f02e481.jpg\n"
          ]
        },
        {
          "output_type": "stream",
          "name": "stderr",
          "text": [
            "\rProcessing Combination images: 34it [00:22,  1.61it/s]"
          ]
        },
        {
          "output_type": "stream",
          "name": "stdout",
          "text": [
            "Saving at: /content/drive/MyDrive/skin_detection/validation/Combination/combination_-_65ab6e135242c408e342_jpg.rf.3d57dd1eccfd16355267872e76a32c0d.jpg\n"
          ]
        },
        {
          "output_type": "stream",
          "name": "stderr",
          "text": [
            "\rProcessing Combination images: 34it [00:23,  1.46it/s]\n"
          ]
        },
        {
          "output_type": "error",
          "ename": "KeyboardInterrupt",
          "evalue": "",
          "traceback": [
            "\u001b[0;31m---------------------------------------------------------------------------\u001b[0m",
            "\u001b[0;31mKeyboardInterrupt\u001b[0m                         Traceback (most recent call last)",
            "\u001b[0;32m<ipython-input-31-f4778877f3ce>\u001b[0m in \u001b[0;36m<cell line: 21>\u001b[0;34m()\u001b[0m\n\u001b[1;32m     28\u001b[0m \u001b[0;34m\u001b[0m\u001b[0m\n\u001b[1;32m     29\u001b[0m         \u001b[0;31m# Process the image and save\u001b[0m\u001b[0;34m\u001b[0m\u001b[0;34m\u001b[0m\u001b[0m\n\u001b[0;32m---> 30\u001b[0;31m         \u001b[0mprocess_image\u001b[0m\u001b[0;34m(\u001b[0m\u001b[0msrc_path\u001b[0m\u001b[0;34m,\u001b[0m \u001b[0mclass_name\u001b[0m\u001b[0;34m,\u001b[0m \u001b[0mdst_path\u001b[0m\u001b[0;34m)\u001b[0m\u001b[0;34m\u001b[0m\u001b[0;34m\u001b[0m\u001b[0m\n\u001b[0m\u001b[1;32m     31\u001b[0m \u001b[0;34m\u001b[0m\u001b[0m\n\u001b[1;32m     32\u001b[0m \u001b[0mprint\u001b[0m\u001b[0;34m(\u001b[0m\u001b[0;34m\"Data processing completed.\"\u001b[0m\u001b[0;34m)\u001b[0m\u001b[0;34m\u001b[0m\u001b[0;34m\u001b[0m\u001b[0m\n",
            "\u001b[0;32m<ipython-input-29-14bc7b3a29e8>\u001b[0m in \u001b[0;36mprocess_image\u001b[0;34m(image_path, class_name, output_path)\u001b[0m\n\u001b[1;32m      4\u001b[0m \u001b[0;34m\u001b[0m\u001b[0m\n\u001b[1;32m      5\u001b[0m     \u001b[0;31m# Detect face\u001b[0m\u001b[0;34m\u001b[0m\u001b[0;34m\u001b[0m\u001b[0m\n\u001b[0;32m----> 6\u001b[0;31m     \u001b[0mbounding_box\u001b[0m \u001b[0;34m=\u001b[0m \u001b[0mdetect_face\u001b[0m\u001b[0;34m(\u001b[0m\u001b[0mimg\u001b[0m\u001b[0;34m)\u001b[0m\u001b[0;34m\u001b[0m\u001b[0;34m\u001b[0m\u001b[0m\n\u001b[0m\u001b[1;32m      7\u001b[0m \u001b[0;34m\u001b[0m\u001b[0m\n\u001b[1;32m      8\u001b[0m     \u001b[0;31m# Extract skin ROI\u001b[0m\u001b[0;34m\u001b[0m\u001b[0;34m\u001b[0m\u001b[0m\n",
            "\u001b[0;32m<ipython-input-7-cb71ad9f650f>\u001b[0m in \u001b[0;36mdetect_face\u001b[0;34m(image)\u001b[0m\n\u001b[1;32m      4\u001b[0m \u001b[0;34m\u001b[0m\u001b[0m\n\u001b[1;32m      5\u001b[0m     \u001b[0;31m# Detect faces in the image\u001b[0m\u001b[0;34m\u001b[0m\u001b[0;34m\u001b[0m\u001b[0m\n\u001b[0;32m----> 6\u001b[0;31m     \u001b[0mfaces\u001b[0m \u001b[0;34m=\u001b[0m \u001b[0mface_detector\u001b[0m\u001b[0;34m(\u001b[0m\u001b[0mimage\u001b[0m\u001b[0;34m,\u001b[0m \u001b[0;36m1\u001b[0m\u001b[0;34m)\u001b[0m\u001b[0;34m\u001b[0m\u001b[0;34m\u001b[0m\u001b[0m\n\u001b[0m\u001b[1;32m      7\u001b[0m \u001b[0;34m\u001b[0m\u001b[0m\n\u001b[1;32m      8\u001b[0m     \u001b[0;32mif\u001b[0m \u001b[0mlen\u001b[0m\u001b[0;34m(\u001b[0m\u001b[0mfaces\u001b[0m\u001b[0;34m)\u001b[0m \u001b[0;34m>\u001b[0m \u001b[0;36m0\u001b[0m\u001b[0;34m:\u001b[0m\u001b[0;34m\u001b[0m\u001b[0;34m\u001b[0m\u001b[0m\n",
            "\u001b[0;31mKeyboardInterrupt\u001b[0m: "
          ]
        }
      ],
      "source": [
        "# 80% of data is selected for training and 20% for validating\n",
        "validation_size = 0.2\n",
        "\n",
        "# Create training and validating classes\n",
        "classes = ['Combination', 'Dry', 'Normal', 'Oily']\n",
        "for class_name in classes:\n",
        "    os.makedirs(os.path.join(output_path, \"train\", class_name), exist_ok=True)\n",
        "    os.makedirs(os.path.join(output_path, \"validation\", class_name), exist_ok=True)\n",
        "\n",
        "# Get the list of all image files in the dataset folder for each class\n",
        "all_images = {class_name: [f for f in os.listdir(os.path.join(dir, class_name)) if f.lower().endswith('.jpg')] for class_name in classes}\n",
        "\n",
        "# Shuffle the lists of image files for each class\n",
        "for class_name in classes:\n",
        "    random.shuffle(all_images[class_name])\n",
        "\n",
        "# Calculate the number of images to use for the validation set for each class\n",
        "num_validation = {class_name: int(len(all_images[class_name]) * validation_size) for class_name in classes}\n",
        "\n",
        "# Move the images to the appropriate train and validation folders for each class\n",
        "for class_name in classes:\n",
        "    for i, image_name in tqdm(enumerate(all_images[class_name]), desc=f\"Processing {class_name} images\"):\n",
        "        src_path = os.path.join(dir, class_name, image_name)\n",
        "        if i < num_validation[class_name]:\n",
        "            dst_path = os.path.join(output_path, \"validation\", class_name, image_name)\n",
        "        else:\n",
        "            dst_path = os.path.join(output_path, \"train\", class_name, image_name)\n",
        "\n",
        "        # Process the image and save\n",
        "        process_image(src_path, class_name, dst_path)\n",
        "\n",
        "print(\"Data processing completed.\")"
      ]
    },
    {
      "cell_type": "code",
      "source": [
        "train_dir = os.path.join(output_path, 'train')\n",
        "validation_dir = os.path.join(output_path, 'validation')\n",
        "\n",
        "# Directory with training images\n",
        "train_combination_dir = os.path.join(train_dir, 'Combination')\n",
        "train_dry_dir = os.path.join(train_dir, 'Dry')\n",
        "train_normal_dir = os.path.join(train_dir, 'Normal')\n",
        "train_oily_dir = os.path.join(train_dir, 'Oily')\n",
        "\n",
        "\n",
        "# Directory with validation cat/dog pictures\n",
        "validation_combination_dir = os.path.join(validation_dir, 'Combination')\n",
        "validation_dry_dir = os.path.join(validation_dir, 'Dry')\n",
        "validation_normal_dir = os.path.join(validation_dir, 'Normal')\n",
        "validation_oily_dir = os.path.join(validation_dir, 'Oily')"
      ],
      "metadata": {
        "id": "8AK_ULim005L"
      },
      "execution_count": 19,
      "outputs": []
    },
    {
      "cell_type": "code",
      "source": [
        "def count_images_in_folder(folder_path):\n",
        "    return sum(1 for file in os.listdir(folder_path) if file.endswith(('.jpg', '.png')))\n",
        "\n",
        "# Define your directory paths\n",
        "directories = {\n",
        "    'Train combination skin Images': train_combination_dir,\n",
        "    'Train dry skin Images': train_dry_dir,\n",
        "    'Train normal skin Images': train_normal_dir,\n",
        "    'Train oily skin Images': train_oily_dir,\n",
        "    '\\nValidation combination skin Images': validation_combination_dir,\n",
        "    'Validation dry skin Images': validation_dry_dir,\n",
        "    'Validation normal skin Images': validation_normal_dir,\n",
        "    'Validation oily skin Images': validation_oily_dir\n",
        "}\n",
        "\n",
        "# Count and print the image counts for each directory\n",
        "for directory_name, directory_path in directories.items():\n",
        "    image_count = count_images_in_folder(directory_path)\n",
        "    print(f\"{directory_name}: {image_count}\")"
      ],
      "metadata": {
        "colab": {
          "base_uri": "https://localhost:8080/"
        },
        "id": "CkntQOg-0wY9",
        "outputId": "fc458865-77a7-4759-8f0b-4ebf7f2beaf0"
      },
      "execution_count": 20,
      "outputs": [
        {
          "output_type": "stream",
          "name": "stdout",
          "text": [
            "Train combination skin Images: 0\n",
            "Train dry skin Images: 0\n",
            "Train normal skin Images: 0\n",
            "Train oily skin Images: 0\n",
            "\n",
            "Validation combination skin Images: 0\n",
            "Validation dry skin Images: 0\n",
            "Validation normal skin Images: 0\n",
            "Validation oily skin Images: 0\n"
          ]
        }
      ]
    }
  ]
}