{
  "nbformat": 4,
  "nbformat_minor": 0,
  "metadata": {
    "colab": {
      "provenance": []
    },
    "kernelspec": {
      "name": "python3",
      "display_name": "Python 3"
    },
    "language_info": {
      "name": "python"
    }
  },
  "cells": [
    {
      "cell_type": "code",
      "execution_count": 1,
      "metadata": {
        "colab": {
          "base_uri": "https://localhost:8080/"
        },
        "id": "NetBT8QkyVvN",
        "outputId": "b3b86203-1f11-4a62-c500-031a9633063f"
      },
      "outputs": [
        {
          "output_type": "stream",
          "name": "stdout",
          "text": [
            "Drive already mounted at /content/drive; to attempt to forcibly remount, call drive.mount(\"/content/drive\", force_remount=True).\n",
            "Conversion complete.\n"
          ]
        }
      ],
      "source": [
        "from PIL import Image\n",
        "import os\n",
        "\n",
        "# Mount Google Drive\n",
        "from google.colab import drive\n",
        "drive.mount('/content/drive')\n",
        "\n",
        "# Define input and output folders\n",
        "input_folder = \"/content/drive/MyDrive/Oily-dataset\"\n",
        "output_folder = \"/content/drive/MyDrive/Oily-dataset-Final\"\n",
        "\n",
        "# Create output folder if it doesn't exist\n",
        "os.makedirs(output_folder, exist_ok=True)\n",
        "\n",
        "# Iterate over files in input folder\n",
        "for file_name in os.listdir(input_folder):\n",
        "    if file_name.endswith(\".jfif\"):\n",
        "        # Open the JFIF image\n",
        "        input_path = os.path.join(input_folder, file_name)\n",
        "        output_path = os.path.join(output_folder, os.path.splitext(file_name)[0] + \".jpg\")\n",
        "        with Image.open(input_path) as img:\n",
        "            # Convert and save as JPG\n",
        "            img.convert(\"RGB\").save(output_path, \"JPEG\")\n",
        "\n",
        "print(\"Conversion complete.\")\n"
      ]
    }
  ]
}