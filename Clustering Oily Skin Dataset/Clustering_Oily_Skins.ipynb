{
  "nbformat": 4,
  "nbformat_minor": 0,
  "metadata": {
    "colab": {
      "provenance": []
    },
    "kernelspec": {
      "name": "python3",
      "display_name": "Python 3"
    },
    "language_info": {
      "name": "python"
    }
  },
  "cells": [
    {
      "cell_type": "code",
      "execution_count": null,
      "metadata": {
        "id": "pjLCqlBTcai0"
      },
      "outputs": [],
      "source": [
        "import numpy as np\n",
        "import os\n",
        "from PIL import Image\n",
        "from tensorflow.keras.applications.vgg16 import VGG16, preprocess_input\n",
        "from tensorflow.keras.models import Model\n",
        "from sklearn.cluster import KMeans\n",
        "from sklearn.preprocessing import StandardScaler"
      ]
    },
    {
      "cell_type": "code",
      "source": [
        "from google.colab import drive\n",
        "drive.mount('/content/drive')"
      ],
      "metadata": {
        "colab": {
          "base_uri": "https://localhost:8080/"
        },
        "id": "06hARsU0dKiC",
        "outputId": "7c3c066b-3ccd-41a6-a863-ef68d008d9c9"
      },
      "execution_count": null,
      "outputs": [
        {
          "output_type": "stream",
          "name": "stdout",
          "text": [
            "Mounted at /content/drive\n"
          ]
        }
      ]
    },
    {
      "cell_type": "code",
      "source": [
        "# Define the paths\n",
        "data_folder = \"/content/drive/MyDrive/Oily-dataset\"\n",
        "output_folder = \"/content/drive/My Drive/output_folder\"\n"
      ],
      "metadata": {
        "id": "ICCNfPs3eb2g"
      },
      "execution_count": null,
      "outputs": []
    },
    {
      "cell_type": "code",
      "source": [
        "base_model = VGG16(weights='imagenet', include_top=False)\n",
        "model = Model(inputs=base_model.input, outputs=base_model.get_layer('block4_pool').output)  # Choose an intermediate layer"
      ],
      "metadata": {
        "colab": {
          "base_uri": "https://localhost:8080/"
        },
        "id": "7ulwFazIen4x",
        "outputId": "441e78af-41b1-4c2e-96db-64db67fb5163"
      },
      "execution_count": null,
      "outputs": [
        {
          "output_type": "stream",
          "name": "stdout",
          "text": [
            "Downloading data from https://storage.googleapis.com/tensorflow/keras-applications/vgg16/vgg16_weights_tf_dim_ordering_tf_kernels_notop.h5\n",
            "58889256/58889256 [==============================] - 0s 0us/step\n"
          ]
        }
      ]
    },
    {
      "cell_type": "code",
      "source": [
        "from tensorflow.keras.preprocessing import image"
      ],
      "metadata": {
        "id": "QDb1AQeKgkDf"
      },
      "execution_count": null,
      "outputs": []
    },
    {
      "cell_type": "code",
      "source": [
        "def extract_features(image_path, model, target_size=(224, 224)):\n",
        "    img = image.load_img(image_path, target_size=target_size)\n",
        "    img_array = image.img_to_array(img)\n",
        "    img_array = np.expand_dims(img_array, axis=0)\n",
        "    img_array = preprocess_input(img_array)\n",
        "    features = model.predict(img_array)\n",
        "    return features.flatten()"
      ],
      "metadata": {
        "id": "muyoIxygexOg"
      },
      "execution_count": null,
      "outputs": []
    },
    {
      "cell_type": "code",
      "source": [
        "feature_list = []\n",
        "image_paths = []"
      ],
      "metadata": {
        "id": "uXNn2PQse2uI"
      },
      "execution_count": null,
      "outputs": []
    },
    {
      "cell_type": "code",
      "source": [
        "for file_name in os.listdir(data_folder):\n",
        "    if file_name.endswith(\".jpg\"):\n",
        "        image_path = os.path.join(data_folder, file_name)\n",
        "        image_paths.append(image_path)\n",
        "        features = extract_features(image_path, model, target_size=(224, 224))\n",
        "        feature_list.append(features)"
      ],
      "metadata": {
        "colab": {
          "base_uri": "https://localhost:8080/"
        },
        "id": "W6gfZHp0e5rB",
        "outputId": "8ac2447a-5ccf-4c40-bd67-83e102097fc7"
      },
      "execution_count": null,
      "outputs": [
        {
          "output_type": "stream",
          "name": "stdout",
          "text": [
            "1/1 [==============================] - 0s 472ms/step\n",
            "1/1 [==============================] - 1s 596ms/step\n",
            "1/1 [==============================] - 0s 488ms/step\n",
            "1/1 [==============================] - 0s 485ms/step\n",
            "1/1 [==============================] - 0s 477ms/step\n",
            "1/1 [==============================] - 0s 492ms/step\n",
            "1/1 [==============================] - 0s 479ms/step\n",
            "1/1 [==============================] - 0s 483ms/step\n",
            "1/1 [==============================] - 0s 482ms/step\n",
            "1/1 [==============================] - 0s 494ms/step\n",
            "1/1 [==============================] - 0s 484ms/step\n",
            "1/1 [==============================] - 0s 490ms/step\n",
            "1/1 [==============================] - 0s 484ms/step\n",
            "1/1 [==============================] - 0s 469ms/step\n",
            "1/1 [==============================] - 0s 490ms/step\n",
            "1/1 [==============================] - 0s 480ms/step\n",
            "1/1 [==============================] - 0s 490ms/step\n",
            "1/1 [==============================] - 1s 667ms/step\n",
            "1/1 [==============================] - 1s 850ms/step\n",
            "1/1 [==============================] - 1s 839ms/step\n",
            "1/1 [==============================] - 1s 834ms/step\n",
            "1/1 [==============================] - 1s 734ms/step\n",
            "1/1 [==============================] - 0s 478ms/step\n",
            "1/1 [==============================] - 0s 489ms/step\n",
            "1/1 [==============================] - 0s 487ms/step\n",
            "1/1 [==============================] - 0s 477ms/step\n",
            "1/1 [==============================] - 0s 490ms/step\n",
            "1/1 [==============================] - 0s 479ms/step\n",
            "1/1 [==============================] - 0s 493ms/step\n",
            "1/1 [==============================] - 0s 473ms/step\n",
            "1/1 [==============================] - 0s 479ms/step\n",
            "1/1 [==============================] - 0s 494ms/step\n",
            "1/1 [==============================] - 0s 477ms/step\n",
            "1/1 [==============================] - 0s 495ms/step\n",
            "1/1 [==============================] - 0s 472ms/step\n",
            "1/1 [==============================] - 0s 493ms/step\n",
            "1/1 [==============================] - 0s 485ms/step\n",
            "1/1 [==============================] - 0s 473ms/step\n",
            "1/1 [==============================] - 1s 609ms/step\n",
            "1/1 [==============================] - 1s 884ms/step\n",
            "1/1 [==============================] - 1s 813ms/step\n",
            "1/1 [==============================] - 1s 845ms/step\n",
            "1/1 [==============================] - 1s 802ms/step\n",
            "1/1 [==============================] - 0s 486ms/step\n",
            "1/1 [==============================] - 0s 478ms/step\n",
            "1/1 [==============================] - 0s 490ms/step\n",
            "1/1 [==============================] - 0s 473ms/step\n",
            "1/1 [==============================] - 0s 492ms/step\n",
            "1/1 [==============================] - 0s 478ms/step\n",
            "1/1 [==============================] - 0s 491ms/step\n",
            "1/1 [==============================] - 0s 475ms/step\n",
            "1/1 [==============================] - 0s 471ms/step\n",
            "1/1 [==============================] - 0s 491ms/step\n",
            "1/1 [==============================] - 0s 472ms/step\n",
            "1/1 [==============================] - 0s 495ms/step\n",
            "1/1 [==============================] - 0s 477ms/step\n",
            "1/1 [==============================] - 0s 495ms/step\n",
            "1/1 [==============================] - 0s 484ms/step\n",
            "1/1 [==============================] - 1s 517ms/step\n",
            "1/1 [==============================] - 0s 476ms/step\n",
            "1/1 [==============================] - 0s 492ms/step\n",
            "1/1 [==============================] - 1s 831ms/step\n",
            "1/1 [==============================] - 1s 803ms/step\n",
            "1/1 [==============================] - 1s 877ms/step\n",
            "1/1 [==============================] - 1s 820ms/step\n",
            "1/1 [==============================] - 1s 558ms/step\n",
            "1/1 [==============================] - 0s 472ms/step\n",
            "1/1 [==============================] - 0s 492ms/step\n",
            "1/1 [==============================] - 0s 470ms/step\n",
            "1/1 [==============================] - 0s 484ms/step\n",
            "1/1 [==============================] - 0s 480ms/step\n",
            "1/1 [==============================] - 0s 478ms/step\n",
            "1/1 [==============================] - 0s 490ms/step\n",
            "1/1 [==============================] - 0s 481ms/step\n",
            "1/1 [==============================] - 0s 499ms/step\n",
            "1/1 [==============================] - 0s 476ms/step\n",
            "1/1 [==============================] - 0s 494ms/step\n",
            "1/1 [==============================] - 0s 478ms/step\n",
            "1/1 [==============================] - 0s 491ms/step\n",
            "1/1 [==============================] - 0s 470ms/step\n",
            "1/1 [==============================] - 0s 494ms/step\n",
            "1/1 [==============================] - 0s 478ms/step\n",
            "1/1 [==============================] - 0s 496ms/step\n",
            "1/1 [==============================] - 1s 574ms/step\n",
            "1/1 [==============================] - 1s 829ms/step\n",
            "1/1 [==============================] - 1s 825ms/step\n",
            "1/1 [==============================] - 1s 830ms/step\n",
            "1/1 [==============================] - 1s 795ms/step\n",
            "1/1 [==============================] - 1s 554ms/step\n",
            "1/1 [==============================] - 0s 496ms/step\n",
            "1/1 [==============================] - 0s 477ms/step\n",
            "1/1 [==============================] - 0s 483ms/step\n",
            "1/1 [==============================] - 0s 481ms/step\n",
            "1/1 [==============================] - 0s 486ms/step\n",
            "1/1 [==============================] - 1s 510ms/step\n",
            "1/1 [==============================] - 0s 475ms/step\n",
            "1/1 [==============================] - 0s 490ms/step\n",
            "1/1 [==============================] - 0s 478ms/step\n",
            "1/1 [==============================] - 0s 499ms/step\n",
            "1/1 [==============================] - 0s 478ms/step\n",
            "1/1 [==============================] - 0s 494ms/step\n",
            "1/1 [==============================] - 0s 472ms/step\n",
            "1/1 [==============================] - 0s 489ms/step\n",
            "1/1 [==============================] - 0s 472ms/step\n",
            "1/1 [==============================] - 0s 491ms/step\n",
            "1/1 [==============================] - 0s 477ms/step\n",
            "1/1 [==============================] - 1s 622ms/step\n",
            "1/1 [==============================] - 1s 887ms/step\n",
            "1/1 [==============================] - 1s 788ms/step\n",
            "1/1 [==============================] - 1s 857ms/step\n",
            "1/1 [==============================] - 1s 822ms/step\n",
            "1/1 [==============================] - 0s 485ms/step\n",
            "1/1 [==============================] - 0s 493ms/step\n",
            "1/1 [==============================] - 0s 476ms/step\n",
            "1/1 [==============================] - 0s 490ms/step\n",
            "1/1 [==============================] - 0s 472ms/step\n",
            "1/1 [==============================] - 0s 486ms/step\n",
            "1/1 [==============================] - 0s 472ms/step\n",
            "1/1 [==============================] - 1s 509ms/step\n"
          ]
        }
      ]
    },
    {
      "cell_type": "code",
      "source": [
        "X = np.array(feature_list)"
      ],
      "metadata": {
        "id": "J9DtbPh1lgKP"
      },
      "execution_count": null,
      "outputs": []
    },
    {
      "cell_type": "code",
      "source": [
        "scaler = StandardScaler()\n",
        "X_scaled = scaler.fit_transform(X)"
      ],
      "metadata": {
        "id": "1lDm5YpDliTS"
      },
      "execution_count": null,
      "outputs": []
    },
    {
      "cell_type": "code",
      "source": [
        "kmeans = KMeans(n_clusters=2, random_state=42)\n",
        "y_kmeans = kmeans.fit_predict(X_scaled)"
      ],
      "metadata": {
        "colab": {
          "base_uri": "https://localhost:8080/"
        },
        "id": "cMXL3v6_lko6",
        "outputId": "3c3b04e7-2fe4-4662-9da5-9288ddc4cac8"
      },
      "execution_count": null,
      "outputs": [
        {
          "output_type": "stream",
          "name": "stderr",
          "text": [
            "/usr/local/lib/python3.10/dist-packages/sklearn/cluster/_kmeans.py:870: FutureWarning: The default value of `n_init` will change from 10 to 'auto' in 1.4. Set the value of `n_init` explicitly to suppress the warning\n",
            "  warnings.warn(\n"
          ]
        }
      ]
    },
    {
      "cell_type": "code",
      "source": [
        "import matplotlib.pyplot as plt\n",
        "from sklearn.decomposition import PCA\n",
        "\n",
        "# Perform PCA for dimensionality reduction\n",
        "pca = PCA(n_components=2)\n",
        "X_pca = pca.fit_transform(X_scaled)\n",
        "\n",
        "# Fit KMeans on the reduced feature vectors\n",
        "kmeans = KMeans(n_clusters=2, random_state=42)\n",
        "y_kmeans = kmeans.fit_predict(X_pca)\n",
        "\n",
        "# Visualize the clusters\n",
        "plt.scatter(X_pca[:, 0], X_pca[:, 1], c=y_kmeans, cmap='viridis')\n",
        "plt.title('KMeans Clustering Visualization')\n",
        "plt.xlabel('Principal Component 1')\n",
        "plt.ylabel('Principal Component 2')\n",
        "plt.show()"
      ],
      "metadata": {
        "colab": {
          "base_uri": "https://localhost:8080/",
          "height": 507
        },
        "id": "lHFMK9BklrnW",
        "outputId": "1b84ad87-f790-497b-ecc3-21b0a284f1ea"
      },
      "execution_count": null,
      "outputs": [
        {
          "output_type": "stream",
          "name": "stderr",
          "text": [
            "/usr/local/lib/python3.10/dist-packages/sklearn/cluster/_kmeans.py:870: FutureWarning: The default value of `n_init` will change from 10 to 'auto' in 1.4. Set the value of `n_init` explicitly to suppress the warning\n",
            "  warnings.warn(\n"
          ]
        },
        {
          "output_type": "display_data",
          "data": {
            "text/plain": [
              "<Figure size 640x480 with 1 Axes>"
            ],
            "image/png": "[encoded data removed]"
          },
          "metadata": {}
        }
      ]
    },
    {
      "cell_type": "code",
      "source": [
        "# Create output folders for each cluster\n",
        "for i in range(2):\n",
        "    cluster_folder = os.path.join(output_folder, f\"cluster_{i}\")\n",
        "    os.makedirs(cluster_folder, exist_ok=True)"
      ],
      "metadata": {
        "id": "nNivOl-vqDYG"
      },
      "execution_count": null,
      "outputs": []
    },
    {
      "cell_type": "code",
      "source": [
        "from shutil import copyfile\n",
        "# Move images to respective folders based on clusters\n",
        "for i, image_path in enumerate(image_paths):\n",
        "    if not os.path.exists(image_path):\n",
        "        print(f\"Warning: Image not found - {image_path}\")\n",
        "        continue\n",
        "\n",
        "    cluster_folder = os.path.join(output_folder, f\"cluster_{y_kmeans[i]}\")\n",
        "    os.makedirs(cluster_folder, exist_ok=True)\n",
        "\n",
        "    image_name = os.path.basename(image_path)\n",
        "    output_path = os.path.join(cluster_folder, image_name)\n",
        "\n",
        "    try:\n",
        "        copyfile(image_path, output_path)\n",
        "        print(f\"Image {image_name} moved to {cluster_folder}\")\n",
        "    except Exception as e:\n",
        "        print(f\"Error moving image {image_name}: {str(e)}\")\n",
        "\n",
        "print(\"Clustering and saving images complete.\")\n"
      ],
      "metadata": {
        "colab": {
          "base_uri": "https://localhost:8080/",
          "height": 1000
        },
        "id": "GcD7dv7tqSM2",
        "outputId": "b24c2b04-87da-43fe-9c76-b141c93e854c"
      },
      "execution_count": null,
      "outputs": [
        {
          "output_type": "stream",
          "name": "stdout",
          "text": [
            "Warning: Image not found - /content/drive/MyDrive/Oily-dataset/oily 1.jpg\n",
            "Warning: Image not found - /content/drive/MyDrive/Oily-dataset/oily 2.jpg\n",
            "Warning: Image not found - /content/drive/MyDrive/Oily-dataset/oily 3.jpg\n",
            "Warning: Image not found - /content/drive/MyDrive/Oily-dataset/oily 4.jpg\n",
            "Warning: Image not found - /content/drive/MyDrive/Oily-dataset/oily 5.jpg\n",
            "Warning: Image not found - /content/drive/MyDrive/Oily-dataset/oily 1.jpg\n",
            "Warning: Image not found - /content/drive/MyDrive/Oily-dataset/oily 2.jpg\n",
            "Warning: Image not found - /content/drive/MyDrive/Oily-dataset/oily 3.jpg\n",
            "Warning: Image not found - /content/drive/MyDrive/Oily-dataset/oily 4.jpg\n",
            "Warning: Image not found - /content/drive/MyDrive/Oily-dataset/oily 5.jpg\n",
            "Warning: Image not found - /content/drive/MyDrive/Oily-dataset/oily 1.jpg\n",
            "Warning: Image not found - /content/drive/MyDrive/Oily-dataset/oily 1.jpg\n",
            "Warning: Image not found - /content/drive/MyDrive/Oily-dataset/oily 1.jpg\n",
            "Warning: Image not found - /content/drive/MyDrive/Oily-dataset/oily 1.jpg\n",
            "Warning: Image not found - /content/drive/MyDrive/Oily-dataset/oily 2.jpg\n",
            "Warning: Image not found - /content/drive/MyDrive/Oily-dataset/oily 3.jpg\n",
            "Warning: Image not found - /content/drive/MyDrive/Oily-dataset/oily 4.jpg\n",
            "Warning: Image not found - /content/drive/MyDrive/Oily-dataset/oily 5.jpg\n",
            "Image oily 6.jpg moved to /content/drive/My Drive/output_folder/cluster_1\n",
            "Image oily 7.jpg moved to /content/drive/My Drive/output_folder/cluster_1\n",
            "Image oily 8.jpg moved to /content/drive/My Drive/output_folder/cluster_0\n",
            "Image oily 9.jpg moved to /content/drive/My Drive/output_folder/cluster_1\n",
            "Image oily 10.jpg moved to /content/drive/My Drive/output_folder/cluster_1\n",
            "Image oily 11.jpg moved to /content/drive/My Drive/output_folder/cluster_1\n",
            "Image oily 12.jpg moved to /content/drive/My Drive/output_folder/cluster_1\n",
            "Image oily 13.jpg moved to /content/drive/My Drive/output_folder/cluster_1\n",
            "Image oily 14.jpg moved to /content/drive/My Drive/output_folder/cluster_1\n",
            "Image oily 15.jpg moved to /content/drive/My Drive/output_folder/cluster_1\n",
            "Image oily 16.jpg moved to /content/drive/My Drive/output_folder/cluster_1\n",
            "Image oily 17.jpg moved to /content/drive/My Drive/output_folder/cluster_1\n",
            "Image oily 18.jpg moved to /content/drive/My Drive/output_folder/cluster_1\n",
            "Image oily 19.jpg moved to /content/drive/My Drive/output_folder/cluster_1\n",
            "Image oily 20.jpg moved to /content/drive/My Drive/output_folder/cluster_1\n",
            "Image oily 21.jpg moved to /content/drive/My Drive/output_folder/cluster_1\n",
            "Image oily 22.jpg moved to /content/drive/My Drive/output_folder/cluster_1\n",
            "Image oliy 23.jpg moved to /content/drive/My Drive/output_folder/cluster_1\n",
            "Image oily 24.jpg moved to /content/drive/My Drive/output_folder/cluster_1\n",
            "Image oily 25.jpg moved to /content/drive/My Drive/output_folder/cluster_1\n",
            "Image oliy 26.jpg moved to /content/drive/My Drive/output_folder/cluster_1\n",
            "Image oily 27.jpg moved to /content/drive/My Drive/output_folder/cluster_1\n",
            "Image oily 28.jpg moved to /content/drive/My Drive/output_folder/cluster_1\n",
            "Image oily 29.jpg moved to /content/drive/My Drive/output_folder/cluster_1\n",
            "Image oily 30.jpg moved to /content/drive/My Drive/output_folder/cluster_1\n",
            "Image oily 31.jpg moved to /content/drive/My Drive/output_folder/cluster_1\n",
            "Image oily 32.jpg moved to /content/drive/My Drive/output_folder/cluster_1\n",
            "Image oily 33.jpg moved to /content/drive/My Drive/output_folder/cluster_1\n",
            "Image oily 34.jpg moved to /content/drive/My Drive/output_folder/cluster_1\n",
            "Image oliy 35.jpg moved to /content/drive/My Drive/output_folder/cluster_1\n",
            "Image oliy 36.jpg moved to /content/drive/My Drive/output_folder/cluster_1\n",
            "Image oily 37.jpg moved to /content/drive/My Drive/output_folder/cluster_1\n",
            "Image oily 38.jpg moved to /content/drive/My Drive/output_folder/cluster_1\n",
            "Image oily 39.jpg moved to /content/drive/My Drive/output_folder/cluster_1\n",
            "Image oily 40.jpg moved to /content/drive/My Drive/output_folder/cluster_0\n",
            "Image oliy 41.jpg moved to /content/drive/My Drive/output_folder/cluster_0\n",
            "Image oily 42.jpg moved to /content/drive/My Drive/output_folder/cluster_1\n",
            "Image OIG2.hR.jpg moved to /content/drive/My Drive/output_folder/cluster_1\n",
            "Image OIG2.3UBsvK4GbQN.p.dVS.jpg moved to /content/drive/My Drive/output_folder/cluster_1\n",
            "Image OIG2.jpg moved to /content/drive/My Drive/output_folder/cluster_1\n",
            "Image OIG2 (1).jpg moved to /content/drive/My Drive/output_folder/cluster_1\n",
            "Image OIG2.opu54L.jpg moved to /content/drive/My Drive/output_folder/cluster_1\n",
            "Image OIG2 (2).jpg moved to /content/drive/My Drive/output_folder/cluster_1\n",
            "Image OIG2 (3).jpg moved to /content/drive/My Drive/output_folder/cluster_1\n",
            "Image OIG2 (4).jpg moved to /content/drive/My Drive/output_folder/cluster_1\n",
            "Image OIG2 (5).jpg moved to /content/drive/My Drive/output_folder/cluster_1\n",
            "Image OIG4.jpg moved to /content/drive/My Drive/output_folder/cluster_1\n",
            "Image OIG4 (1).jpg moved to /content/drive/My Drive/output_folder/cluster_0\n",
            "Image OIG4.NWPo.jpg moved to /content/drive/My Drive/output_folder/cluster_1\n",
            "Image OIG4.D7kDEQGljiYS.jpg moved to /content/drive/My Drive/output_folder/cluster_0\n",
            "Image OIG2.E.jpg moved to /content/drive/My Drive/output_folder/cluster_1\n",
            "Image OIG3.jpg moved to /content/drive/My Drive/output_folder/cluster_1\n",
            "Image OIG3 (1).jpg moved to /content/drive/My Drive/output_folder/cluster_1\n",
            "Image OIG3 (2).jpg moved to /content/drive/My Drive/output_folder/cluster_1\n",
            "Image OIG3 (3).jpg moved to /content/drive/My Drive/output_folder/cluster_1\n",
            "Image OIG3.BDWtgURkNvyclgT.jpg moved to /content/drive/My Drive/output_folder/cluster_1\n",
            "Image OIG3 (4).jpg moved to /content/drive/My Drive/output_folder/cluster_1\n",
            "Image OIG3.HuAbsIPF.jpg moved to /content/drive/My Drive/output_folder/cluster_1\n",
            "Image OIG4 (2).jpg moved to /content/drive/My Drive/output_folder/cluster_0\n",
            "Image OIG4 (3).jpg moved to /content/drive/My Drive/output_folder/cluster_1\n",
            "Image OIG4 (4).jpg moved to /content/drive/My Drive/output_folder/cluster_1\n",
            "Image OIG4.3.UFn_7NSQQM.jpg moved to /content/drive/My Drive/output_folder/cluster_1\n",
            "Image OIG4.byYYKnYnln9LX.jpg moved to /content/drive/My Drive/output_folder/cluster_1\n",
            "Image OIG4.13xC0E_WXh66p.jpg moved to /content/drive/My Drive/output_folder/cluster_1\n",
            "Image OIG4.kaUbR47d.jpg moved to /content/drive/My Drive/output_folder/cluster_0\n",
            "Image OIG4 (5).jpg moved to /content/drive/My Drive/output_folder/cluster_1\n",
            "Image OIG2.KT61YFF5E3aQkQt.jpg moved to /content/drive/My Drive/output_folder/cluster_0\n",
            "Image OIG2 (6).jpg moved to /content/drive/My Drive/output_folder/cluster_1\n",
            "Image OIG2 (7).jpg moved to /content/drive/My Drive/output_folder/cluster_0\n",
            "Image OIG2 (8).jpg moved to /content/drive/My Drive/output_folder/cluster_0\n",
            "Image OIG1..jpg moved to /content/drive/My Drive/output_folder/cluster_0\n",
            "Image OIG1.nsKJd.jpg moved to /content/drive/My Drive/output_folder/cluster_0\n",
            "Image OIG1.jpg moved to /content/drive/My Drive/output_folder/cluster_1\n",
            "Image OIG4 (6).jpg moved to /content/drive/My Drive/output_folder/cluster_1\n",
            "Image OIG4 (7).jpg moved to /content/drive/My Drive/output_folder/cluster_1\n",
            "Image OIG4.O7.jpg moved to /content/drive/My Drive/output_folder/cluster_0\n",
            "Image OIG4 (8).jpg moved to /content/drive/My Drive/output_folder/cluster_1\n",
            "Image OIG4 (9).jpg moved to /content/drive/My Drive/output_folder/cluster_1\n",
            "Image OIG4 (10).jpg moved to /content/drive/My Drive/output_folder/cluster_1\n",
            "Image OIG4.dA6u.jpg moved to /content/drive/My Drive/output_folder/cluster_0\n",
            "Image OIG4 (11).jpg moved to /content/drive/My Drive/output_folder/cluster_1\n",
            "Image OIG4.IdQmT8I2IWfCMnsD9C.jpg moved to /content/drive/My Drive/output_folder/cluster_0\n",
            "Image OIG4.xttphF6UUU7OoSA.jpg moved to /content/drive/My Drive/output_folder/cluster_0\n",
            "Image OIG4.H55KRnTAlKQUNKN.jpg moved to /content/drive/My Drive/output_folder/cluster_0\n",
            "Image OIG3 (5).jpg moved to /content/drive/My Drive/output_folder/cluster_0\n",
            "Image OIG3 (6).jpg moved to /content/drive/My Drive/output_folder/cluster_0\n",
            "Image OIG1 (1).jpg moved to /content/drive/My Drive/output_folder/cluster_1\n",
            "Image OIG1 (2).jpg moved to /content/drive/My Drive/output_folder/cluster_0\n",
            "Image OIG1.xKg6uc7_OR.jpg moved to /content/drive/My Drive/output_folder/cluster_1\n",
            "Image OIG1 (3).jpg moved to /content/drive/My Drive/output_folder/cluster_0\n",
            "Image OIG3 (7).jpg moved to /content/drive/My Drive/output_folder/cluster_0\n",
            "Image OIG3 (8).jpg moved to /content/drive/My Drive/output_folder/cluster_0\n",
            "Image OIG3 (9).jpg moved to /content/drive/My Drive/output_folder/cluster_0\n",
            "Image OIG3 (10).jpg moved to /content/drive/My Drive/output_folder/cluster_0\n",
            "Image OIG3 (11).jpg moved to /content/drive/My Drive/output_folder/cluster_0\n",
            "Image OIG3 (12).jpg moved to /content/drive/My Drive/output_folder/cluster_0\n",
            "Image OIG3 (13).jpg moved to /content/drive/My Drive/output_folder/cluster_0\n",
            "Image OIG4 (12).jpg moved to /content/drive/My Drive/output_folder/cluster_0\n",
            "Image OIG4 (13).jpg moved to /content/drive/My Drive/output_folder/cluster_0\n",
            "Image OIG4.TOtD9YCjqWW3XE.jpg moved to /content/drive/My Drive/output_folder/cluster_1\n",
            "Image OIG4 (14).jpg moved to /content/drive/My Drive/output_folder/cluster_1\n",
            "Image OIG2 (9).jpg moved to /content/drive/My Drive/output_folder/cluster_1\n",
            "Image OIG2 (10).jpg moved to /content/drive/My Drive/output_folder/cluster_1\n",
            "Image OIG2 (11).jpg moved to /content/drive/My Drive/output_folder/cluster_1\n",
            "Image OIG1 (4).jpg moved to /content/drive/My Drive/output_folder/cluster_1\n",
            "Image OIG1 (5).jpg moved to /content/drive/My Drive/output_folder/cluster_1\n",
            "Image OIG1.LBaeHcx4.jpg moved to /content/drive/My Drive/output_folder/cluster_1\n",
            "Image OIG1.S5elfittC.jpg moved to /content/drive/My Drive/output_folder/cluster_1\n",
            "Image OIG1 (6).jpg moved to /content/drive/My Drive/output_folder/cluster_1\n"
          ]
        },
        {
          "output_type": "error",
          "ename": "IndexError",
          "evalue": "index 127 is out of bounds for axis 0 with size 127",
          "traceback": [
            "\u001b[0;31m---------------------------------------------------------------------------\u001b[0m",
            "\u001b[0;31mIndexError\u001b[0m                                Traceback (most recent call last)",
            "\u001b[0;32m<ipython-input-28-f7d7687e6305>\u001b[0m in \u001b[0;36m<cell line: 3>\u001b[0;34m()\u001b[0m\n\u001b[1;32m      6\u001b[0m         \u001b[0;32mcontinue\u001b[0m\u001b[0;34m\u001b[0m\u001b[0;34m\u001b[0m\u001b[0m\n\u001b[1;32m      7\u001b[0m \u001b[0;34m\u001b[0m\u001b[0m\n\u001b[0;32m----> 8\u001b[0;31m     \u001b[0mcluster_folder\u001b[0m \u001b[0;34m=\u001b[0m \u001b[0mos\u001b[0m\u001b[0;34m.\u001b[0m\u001b[0mpath\u001b[0m\u001b[0;34m.\u001b[0m\u001b[0mjoin\u001b[0m\u001b[0;34m(\u001b[0m\u001b[0moutput_folder\u001b[0m\u001b[0;34m,\u001b[0m \u001b[0;34mf\"cluster_{y_kmeans[i]}\"\u001b[0m\u001b[0;34m)\u001b[0m\u001b[0;34m\u001b[0m\u001b[0;34m\u001b[0m\u001b[0m\n\u001b[0m\u001b[1;32m      9\u001b[0m     \u001b[0mos\u001b[0m\u001b[0;34m.\u001b[0m\u001b[0mmakedirs\u001b[0m\u001b[0;34m(\u001b[0m\u001b[0mcluster_folder\u001b[0m\u001b[0;34m,\u001b[0m \u001b[0mexist_ok\u001b[0m\u001b[0;34m=\u001b[0m\u001b[0;32mTrue\u001b[0m\u001b[0;34m)\u001b[0m\u001b[0;34m\u001b[0m\u001b[0;34m\u001b[0m\u001b[0m\n\u001b[1;32m     10\u001b[0m \u001b[0;34m\u001b[0m\u001b[0m\n",
            "\u001b[0;31mIndexError\u001b[0m: index 127 is out of bounds for axis 0 with size 127"
          ]
        }
      ]
    },
    {
      "cell_type": "code",
      "source": [
        "import matplotlib.pyplot as plt\n",
        "from matplotlib.pyplot import imshow\n",
        "import matplotlib.image as mpimg\n",
        "\n",
        "# Function to display sample images from a cluster\n",
        "def display_sample_images(cluster_folder, num_samples=3):\n",
        "    image_files = os.listdir(cluster_folder)[:num_samples]\n",
        "    for image_file in image_files:\n",
        "        image_path = os.path.join(cluster_folder, image_file)\n",
        "        img = mpimg.imread(image_path)\n",
        "        plt.figure(figsize=(8, 8))\n",
        "        plt.imshow(img)\n",
        "        plt.axis('off')\n",
        "        plt.show()"
      ],
      "metadata": {
        "id": "fQCyFk8Hl2Vo"
      },
      "execution_count": null,
      "outputs": []
    }
  ]
}